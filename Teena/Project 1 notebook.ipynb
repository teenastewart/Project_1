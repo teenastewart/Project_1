{
 "cells": [
  {
   "cell_type": "code",
   "execution_count": 1,
   "metadata": {},
   "outputs": [],
   "source": [
    "#Dependencies\n",
    "from config import api_key\n",
    "import numpy as np\n",
    "import pandas as pd\n",
    "import matplotlib.pyplot as plt\n",
    "from scipy.stats import linregress\n",
    "import requests\n",
    "import csv\n",
    "import json"
   ]
  },
  {
   "cell_type": "code",
   "execution_count": 18,
   "metadata": {},
   "outputs": [
    {
     "name": "stdout",
     "output_type": "stream",
     "text": [
      "http://api.worldweatheronline.com/premium/v1/past-weather.ashx?key=40b39bd5e8b841fe84412832212804&q=Minneapolis,MN&date=2018-01-01&enddate=2020-12-31&tp=24&format=json\n"
     ]
    }
   ],
   "source": [
    "#Getting weather data for 2018, 2019, 2020\n",
    "url = \"http://api.worldweatheronline.com/premium/v1/past-weather.ashx\"\n",
    "request = url + \"?\" + \"key=\" + api_key +\"&q=Minneapolis,MN\" + \"&date=2018-01-01\" + \"&enddate=2020-12-31\" + \"&tp=24\" + \"&format=json\"\n",
    "response = requests.get(request)\n",
    "weather_data = response.json()\n",
    "# print(json.dumps(weather_data, indent=4, sort_keys=True))\n",
    "print(request)\n"
   ]
  },
  {
   "cell_type": "code",
   "execution_count": 35,
   "metadata": {},
   "outputs": [
    {
     "ename": "TypeError",
     "evalue": "byte indices must be integers or slices, not str",
     "output_type": "error",
     "traceback": [
      "\u001b[1;31m---------------------------------------------------------------------------\u001b[0m",
      "\u001b[1;31mTypeError\u001b[0m                                 Traceback (most recent call last)",
      "\u001b[1;32m<ipython-input-35-dae367307749>\u001b[0m in \u001b[0;36m<module>\u001b[1;34m\u001b[0m\n\u001b[0;32m      2\u001b[0m \u001b[1;31m# wdate = []\u001b[0m\u001b[1;33m\u001b[0m\u001b[1;33m\u001b[0m\u001b[1;33m\u001b[0m\u001b[0m\n\u001b[0;32m      3\u001b[0m \u001b[1;32mfor\u001b[0m \u001b[0mx\u001b[0m \u001b[1;32min\u001b[0m \u001b[0mresponse\u001b[0m\u001b[1;33m:\u001b[0m\u001b[1;33m\u001b[0m\u001b[1;33m\u001b[0m\u001b[0m\n\u001b[1;32m----> 4\u001b[1;33m     \u001b[0mweather_df\u001b[0m\u001b[1;33m[\u001b[0m\u001b[1;34m'date'\u001b[0m\u001b[1;33m]\u001b[0m \u001b[1;33m=\u001b[0m \u001b[0mx\u001b[0m\u001b[1;33m[\u001b[0m\u001b[1;34m\"data\"\u001b[0m\u001b[1;33m]\u001b[0m\u001b[1;33m[\u001b[0m\u001b[1;34m\"weather\"\u001b[0m\u001b[1;33m]\u001b[0m\u001b[1;33m[\u001b[0m\u001b[1;36m0\u001b[0m\u001b[1;33m]\u001b[0m\u001b[1;33m[\u001b[0m\u001b[1;34m\"date\"\u001b[0m\u001b[1;33m]\u001b[0m\u001b[1;33m\u001b[0m\u001b[1;33m\u001b[0m\u001b[0m\n\u001b[0m\u001b[0;32m      5\u001b[0m \u001b[1;31m# weather_df['max_temp'] = weather_data[\"data\"][\"maxtempF\"]\u001b[0m\u001b[1;33m\u001b[0m\u001b[1;33m\u001b[0m\u001b[1;33m\u001b[0m\u001b[0m\n\u001b[0;32m      6\u001b[0m \u001b[1;31m# weather_df[\"min_temp\"] = weather_data[\"data\"][\"mintempF\"]\u001b[0m\u001b[1;33m\u001b[0m\u001b[1;33m\u001b[0m\u001b[1;33m\u001b[0m\u001b[0m\n",
      "\u001b[1;31mTypeError\u001b[0m: byte indices must be integers or slices, not str"
     ]
    }
   ],
   "source": [
    "# weather_df = pd.DataFrame()\n",
    "# wdate = []\n",
    "for x in response:\n",
    "    weather_df['date'] = x[\"data\"][\"weather\"][0][\"date\"]\n",
    "# weather_df['max_temp'] = weather_data[\"data\"][\"maxtempF\"]\n",
    "# weather_df[\"min_temp\"] = weather_data[\"data\"][\"mintempF\"]\n",
    "# weather_df[\"precip\"] = weather_data[\"data\"][\"weather\"][\"hourly\"][0][\"precipInches\"]\n",
    "# weather_df[\"wind_speed\"] = weather_data[\"data\"][\"weather\"][\"hourly\"][0][\"windspeedMiles\"]\n",
    "# weather_df[\"humidity\"] = weather_data[\"data\"][\"weather\"][\"hourly\"][0][\"windspeedMiles\"]\n",
    "# weather_df[\"real_feel\"] = weather_data[\"data\"][\"weather\"][\"hourly\"][0][\"FeelsLikeF\"]\n",
    "\n",
    "weather_df.head()\n",
    "\n"
   ]
  },
  {
   "cell_type": "code",
   "execution_count": null,
   "metadata": {},
   "outputs": [],
   "source": [
    "weather_df['date'] = weather_data[\"Data\"][\"maxtempf\"]\n",
    "weather_df['max_temp'] = weather_data[\"Data\"][\"maxtempf\"]\n",
    "weather_df['max_temp'] = \"\"\n",
    "weather_df[\"min_temp\"] = \"\"\n",
    "weather_df[\"precip\"] = \"\"\n",
    "weather_df[\"wind_speed\"] = \"\"\n",
    "weather_df[\"humidity\"] = \"\"\n",
    "weather_df[\"real_feel\"] = \"\"\n"
   ]
  }
 ],
 "metadata": {
  "kernelspec": {
   "display_name": "Python 3",
   "language": "python",
   "name": "python3"
  },
  "language_info": {
   "codemirror_mode": {
    "name": "ipython",
    "version": 3
   },
   "file_extension": ".py",
   "mimetype": "text/x-python",
   "name": "python",
   "nbconvert_exporter": "python",
   "pygments_lexer": "ipython3",
   "version": "3.8.5"
  }
 },
 "nbformat": 4,
 "nbformat_minor": 4
}
