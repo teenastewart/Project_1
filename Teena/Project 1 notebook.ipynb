{
 "cells": [
  {
   "cell_type": "code",
   "execution_count": 6,
   "metadata": {},
   "outputs": [
    {
     "name": "stdout",
     "output_type": "stream",
     "text": [
      "{\"results\": [{\"male_count\": 18, \"female_count\": 5, \"unknown\": 0, \"data_year\": 2016}, {\"male_count\": 96, \"female_count\": 26, \"unknown\": 1, \"data_year\": 2017}, {\"male_count\": 369, \"female_count\": 101, \"unknown\": 1, \"data_year\": 2018}, {\"male_count\": 2807, \"female_count\": 696, \"unknown\": 239, \"data_year\": 2019}, {\"male_count\": 39, \"female_count\": 19, \"unknown\": 1, \"data_year\": 2016}, {\"male_count\": 203, \"female_count\": 103, \"unknown\": 7, \"data_year\": 2017}, {\"male_count\": 603, \"female_count\": 306, \"unknown\": 25, \"data_year\": 2018}, {\"male_count\": 3551, \"female_count\": 1540, \"unknown\": 4688, \"data_year\": 2019}, {\"male_count\": 0, \"female_count\": 1, \"unknown\": 0, \"data_year\": 2016}, {\"male_count\": 3, \"female_count\": 1, \"unknown\": 0, \"data_year\": 2017}, {\"male_count\": 25, \"female_count\": 7, \"unknown\": 0, \"data_year\": 2018}, {\"male_count\": 116, \"female_count\": 82, \"unknown\": 4, \"data_year\": 2019}, {\"male_count\": 7, \"female_count\": 0, \"unknown\": 0, \"data_year\": 2017}, {\"male_count\": 23, \"female_count\": 9, \"unknown\": 0, \"data_year\": 2018}, {\"male_count\": 76, \"female_count\": 28, \"unknown\": 5, \"data_year\": 2019}, {\"male_count\": 1, \"female_count\": 0, \"unknown\": 0, \"data_year\": 2017}, {\"male_count\": 1, \"female_count\": 4, \"unknown\": 0, \"data_year\": 2018}, {\"male_count\": 1, \"female_count\": 0, \"unknown\": 0, \"data_year\": 2019}, {\"male_count\": 1, \"female_count\": 1, \"unknown\": 0, \"data_year\": 2019}, {\"male_count\": 26, \"female_count\": 5, \"unknown\": 0, \"data_year\": 2016}, {\"male_count\": 167, \"female_count\": 40, \"unknown\": 13, \"data_year\": 2017}, {\"male_count\": 557, \"female_count\": 169, \"unknown\": 24, \"data_year\": 2018}, {\"male_count\": 2075, \"female_count\": 403, \"unknown\": 2666, \"data_year\": 2019}, {\"male_count\": 20, \"female_count\": 10, \"unknown\": 2, \"data_year\": 2016}, {\"male_count\": 66, \"female_count\": 43, \"unknown\": 6, \"data_year\": 2017}, {\"male_count\": 241, \"female_count\": 121, \"unknown\": 24, \"data_year\": 2018}, {\"male_count\": 702, \"female_count\": 466, \"unknown\": 176, \"data_year\": 2019}, {\"male_count\": 22, \"female_count\": 5, \"unknown\": 1, \"data_year\": 2016}, {\"male_count\": 62, \"female_count\": 36, \"unknown\": 9, \"data_year\": 2017}, {\"male_count\": 151, \"female_count\": 99, \"unknown\": 11, \"data_year\": 2018}, {\"male_count\": 683, \"female_count\": 360, \"unknown\": 968, \"data_year\": 2019}, {\"male_count\": 54, \"female_count\": 8, \"unknown\": 0, \"data_year\": 2016}, {\"male_count\": 239, \"female_count\": 68, \"unknown\": 9, \"data_year\": 2017}, {\"male_count\": 807, \"female_count\": 185, \"unknown\": 35, \"data_year\": 2018}, {\"male_count\": 3201, \"female_count\": 1074, \"unknown\": 2889, \"data_year\": 2019}, {\"male_count\": 106, \"female_count\": 41, \"unknown\": 0, \"data_year\": 2016}, {\"male_count\": 372, \"female_count\": 155, \"unknown\": 0, \"data_year\": 2017}, {\"male_count\": 1133, \"female_count\": 526, \"unknown\": 5, \"data_year\": 2018}, {\"male_count\": 2626, \"female_count\": 1143, \"unknown\": 9, \"data_year\": 2019}, {\"male_count\": 124, \"female_count\": 47, \"unknown\": 0, \"data_year\": 2016}, {\"male_count\": 575, \"female_count\": 264, \"unknown\": 9, \"data_year\": 2017}, {\"male_count\": 2037, \"female_count\": 903, \"unknown\": 4, \"data_year\": 2018}, {\"male_count\": 6175, \"female_count\": 2388, \"unknown\": 31, \"data_year\": 2019}, {\"male_count\": 3, \"female_count\": 1, \"unknown\": 0, \"data_year\": 2017}, {\"male_count\": 4, \"female_count\": 7, \"unknown\": 0, \"data_year\": 2018}, {\"male_count\": 78, \"female_count\": 62, \"unknown\": 29, \"data_year\": 2019}, {\"male_count\": 2, \"female_count\": 0, \"unknown\": 0, \"data_year\": 2016}, {\"male_count\": 2, \"female_count\": 2, \"unknown\": 1, \"data_year\": 2017}, {\"male_count\": 8, \"female_count\": 8, \"unknown\": 1, \"data_year\": 2018}, {\"male_count\": 22, \"female_count\": 7, \"unknown\": 7, \"data_year\": 2019}, {\"male_count\": 44, \"female_count\": 16, \"unknown\": 7, \"data_year\": 2016}, {\"male_count\": 83, \"female_count\": 48, \"unknown\": 14, \"data_year\": 2017}, {\"male_count\": 211, \"female_count\": 115, \"unknown\": 22, \"data_year\": 2018}, {\"male_count\": 798, \"female_count\": 437, \"unknown\": 334, \"data_year\": 2019}, {\"male_count\": 6, \"female_count\": 0, \"unknown\": 0, \"data_year\": 2016}, {\"male_count\": 47, \"female_count\": 3, \"unknown\": 0, \"data_year\": 2017}, {\"male_count\": 171, \"female_count\": 14, \"unknown\": 2, \"data_year\": 2018}, {\"male_count\": 813, \"female_count\": 67, \"unknown\": 22, \"data_year\": 2019}, {\"male_count\": 3, \"female_count\": 0, \"unknown\": 0, \"data_year\": 2019}, {\"male_count\": 1, \"female_count\": 0, \"unknown\": 0, \"data_year\": 2016}, {\"male_count\": 0, \"female_count\": 1, \"unknown\": 0, \"data_year\": 2017}, {\"male_count\": 3, \"female_count\": 3, \"unknown\": 0, \"data_year\": 2018}, {\"male_count\": 4, \"female_count\": 0, \"unknown\": 7, \"data_year\": 2019}, {\"male_count\": 3, \"female_count\": 0, \"unknown\": 0, \"data_year\": 2017}, {\"male_count\": 5, \"female_count\": 2, \"unknown\": 1, \"data_year\": 2018}, {\"male_count\": 14, \"female_count\": 8, \"unknown\": 2, \"data_year\": 2019}, {\"male_count\": 7, \"female_count\": 1, \"unknown\": 1, \"data_year\": 2019}, {\"male_count\": 7, \"female_count\": 9, \"unknown\": 3, \"data_year\": 2016}, {\"male_count\": 15, \"female_count\": 5, \"unknown\": 12, \"data_year\": 2017}, {\"male_count\": 42, \"female_count\": 21, \"unknown\": 7, \"data_year\": 2018}, {\"male_count\": 150, \"female_count\": 94, \"unknown\": 330, \"data_year\": 2019}, {\"male_count\": 6, \"female_count\": 5, \"unknown\": 0, \"data_year\": 2016}, {\"male_count\": 63, \"female_count\": 42, \"unknown\": 0, \"data_year\": 2017}, {\"male_count\": 256, \"female_count\": 142, \"unknown\": 3, \"data_year\": 2018}, {\"male_count\": 702, \"female_count\": 435, \"unknown\": 5, \"data_year\": 2019}, {\"male_count\": 1, \"female_count\": 0, \"unknown\": 0, \"data_year\": 2017}, {\"male_count\": 2, \"female_count\": 0, \"unknown\": 0, \"data_year\": 2018}, {\"male_count\": 9, \"female_count\": 0, \"unknown\": 0, \"data_year\": 2019}, {\"male_count\": 31, \"female_count\": 6, \"unknown\": 1, \"data_year\": 2016}, {\"male_count\": 156, \"female_count\": 45, \"unknown\": 3, \"data_year\": 2017}, {\"male_count\": 644, \"female_count\": 192, \"unknown\": 2, \"data_year\": 2018}, {\"male_count\": 2522, \"female_count\": 753, \"unknown\": 103, \"data_year\": 2019}, {\"male_count\": 2, \"female_count\": 0, \"unknown\": 0, \"data_year\": 2018}, {\"male_count\": 3, \"female_count\": 0, \"unknown\": 0, \"data_year\": 2019}, {\"male_count\": 7, \"female_count\": 0, \"unknown\": 0, \"data_year\": 2017}, {\"male_count\": 33, \"female_count\": 10, \"unknown\": 1, \"data_year\": 2018}, {\"male_count\": 186, \"female_count\": 108, \"unknown\": 0, \"data_year\": 2019}, {\"male_count\": 14, \"female_count\": 3, \"unknown\": 0, \"data_year\": 2016}, {\"male_count\": 74, \"female_count\": 31, \"unknown\": 4, \"data_year\": 2017}, {\"male_count\": 218, \"female_count\": 68, \"unknown\": 6, \"data_year\": 2018}, {\"male_count\": 1433, \"female_count\": 425, \"unknown\": 2372, \"data_year\": 2019}, {\"male_count\": 1, \"female_count\": 0, \"unknown\": 0, \"data_year\": 2017}, {\"male_count\": 5, \"female_count\": 1, \"unknown\": 0, \"data_year\": 2018}, {\"male_count\": 79, \"female_count\": 11, \"unknown\": 20, \"data_year\": 2019}, {\"male_count\": 5, \"female_count\": 3, \"unknown\": 0, \"data_year\": 2018}, {\"male_count\": 17, \"female_count\": 8, \"unknown\": 0, \"data_year\": 2019}, {\"male_count\": 0, \"female_count\": 0, \"unknown\": 0, \"data_year\": 2016}, {\"male_count\": 5, \"female_count\": 2, \"unknown\": 0, \"data_year\": 2017}, {\"male_count\": 7, \"female_count\": 7, \"unknown\": 0, \"data_year\": 2018}, {\"male_count\": 54, \"female_count\": 31, \"unknown\": 15, \"data_year\": 2019}, {\"male_count\": 10, \"female_count\": 3, \"unknown\": 0, \"data_year\": 2016}, {\"male_count\": 25, \"female_count\": 10, \"unknown\": 0, \"data_year\": 2017}, {\"male_count\": 47, \"female_count\": 10, \"unknown\": 0, \"data_year\": 2018}, {\"male_count\": 202, \"female_count\": 43, \"unknown\": 16, \"data_year\": 2019}, {\"male_count\": 1, \"female_count\": 2, \"unknown\": 0, \"data_year\": 2017}, {\"male_count\": 0, \"female_count\": 1, \"unknown\": 0, \"data_year\": 2018}, {\"male_count\": 3, \"female_count\": 9, \"unknown\": 0, \"data_year\": 2019}, {\"male_count\": 4, \"female_count\": 1, \"unknown\": 0, \"data_year\": 2017}, {\"male_count\": 4, \"female_count\": 2, \"unknown\": 0, \"data_year\": 2018}, {\"male_count\": 14, \"female_count\": 4, \"unknown\": 0, \"data_year\": 2019}, {\"male_count\": 0, \"female_count\": 4, \"unknown\": 0, \"data_year\": 2017}, {\"male_count\": 9, \"female_count\": 12, \"unknown\": 1, \"data_year\": 2018}, {\"male_count\": 397, \"female_count\": 71, \"unknown\": 70, \"data_year\": 2019}, {\"male_count\": 4, \"female_count\": 0, \"unknown\": 0, \"data_year\": 2016}, {\"male_count\": 36, \"female_count\": 2, \"unknown\": 1, \"data_year\": 2017}, {\"male_count\": 180, \"female_count\": 5, \"unknown\": 1, \"data_year\": 2018}, {\"male_count\": 744, \"female_count\": 22, \"unknown\": 38, \"data_year\": 2019}, {\"male_count\": 9, \"female_count\": 1, \"unknown\": 0, \"data_year\": 2016}, {\"male_count\": 16, \"female_count\": 3, \"unknown\": 0, \"data_year\": 2017}, {\"male_count\": 117, \"female_count\": 10, \"unknown\": 1, \"data_year\": 2018}, {\"male_count\": 2491, \"female_count\": 334, \"unknown\": 145, \"data_year\": 2019}, {\"male_count\": 5, \"female_count\": 1, \"unknown\": 1, \"data_year\": 2018}, {\"male_count\": 39, \"female_count\": 5, \"unknown\": 3, \"data_year\": 2019}, {\"male_count\": 82, \"female_count\": 35, \"unknown\": 0, \"data_year\": 2016}, {\"male_count\": 216, \"female_count\": 183, \"unknown\": 1, \"data_year\": 2017}, {\"male_count\": 903, \"female_count\": 893, \"unknown\": 5, \"data_year\": 2018}, {\"male_count\": 3011, \"female_count\": 2607, \"unknown\": 44, \"data_year\": 2019}, {\"male_count\": 62, \"female_count\": 22, \"unknown\": 0, \"data_year\": 2016}, {\"male_count\": 360, \"female_count\": 181, \"unknown\": 8, \"data_year\": 2017}, {\"male_count\": 1397, \"female_count\": 652, \"unknown\": 7, \"data_year\": 2018}, {\"male_count\": 6495, \"female_count\": 3008, \"unknown\": 172, \"data_year\": 2019}, {\"male_count\": 1, \"female_count\": 0, \"unknown\": 0, \"data_year\": 2016}, {\"male_count\": 5, \"female_count\": 1, \"unknown\": 0, \"data_year\": 2017}, {\"male_count\": 25, \"female_count\": 3, \"unknown\": 0, \"data_year\": 2018}, {\"male_count\": 95, \"female_count\": 3, \"unknown\": 1, \"data_year\": 2019}, {\"male_count\": 5, \"female_count\": 0, \"unknown\": 1, \"data_year\": 2017}, {\"male_count\": 4, \"female_count\": 1, \"unknown\": 2, \"data_year\": 2018}, {\"male_count\": 1, \"female_count\": 0, \"unknown\": 0, \"data_year\": 2019}, {\"male_count\": 8, \"female_count\": 1, \"unknown\": 0, \"data_year\": 2016}, {\"male_count\": 50, \"female_count\": 15, \"unknown\": 1, \"data_year\": 2017}, {\"male_count\": 209, \"female_count\": 60, \"unknown\": 0, \"data_year\": 2018}, {\"male_count\": 1016, \"female_count\": 298, \"unknown\": 20, \"data_year\": 2019}, {\"male_count\": 24, \"female_count\": 16, \"unknown\": 0, \"data_year\": 2016}, {\"male_count\": 125, \"female_count\": 79, \"unknown\": 12, \"data_year\": 2017}, {\"male_count\": 293, \"female_count\": 191, \"unknown\": 9, \"data_year\": 2018}, {\"male_count\": 745, \"female_count\": 370, \"unknown\": 292, \"data_year\": 2019}, {\"male_count\": 5, \"female_count\": 2, \"unknown\": 0, \"data_year\": 2017}, {\"male_count\": 3, \"female_count\": 0, \"unknown\": 0, \"data_year\": 2018}, {\"male_count\": 8, \"female_count\": 3, \"unknown\": 8, \"data_year\": 2019}, {\"male_count\": 35, \"female_count\": 5, \"unknown\": 0, \"data_year\": 2016}, {\"male_count\": 84, \"female_count\": 18, \"unknown\": 5, \"data_year\": 2017}, {\"male_count\": 230, \"female_count\": 35, \"unknown\": 17, \"data_year\": 2018}, {\"male_count\": 818, \"female_count\": 156, \"unknown\": 4248, \"data_year\": 2019}, {\"male_count\": 27, \"female_count\": 5, \"unknown\": 0, \"data_year\": 2016}, {\"male_count\": 7, \"female_count\": 1, \"unknown\": 0, \"data_year\": 2017}, {\"male_count\": 28, \"female_count\": 2, \"unknown\": 3, \"data_year\": 2018}, {\"male_count\": 73, \"female_count\": 12, \"unknown\": 260, \"data_year\": 2019}, {\"male_count\": 12, \"female_count\": 1, \"unknown\": 0, \"data_year\": 2016}, {\"male_count\": 75, \"female_count\": 14, \"unknown\": 1, \"data_year\": 2017}, {\"male_count\": 237, \"female_count\": 44, \"unknown\": 1, \"data_year\": 2018}, {\"male_count\": 1717, \"female_count\": 272, \"unknown\": 264, \"data_year\": 2019}, {\"male_count\": 0, \"female_count\": 0, \"unknown\": 0, \"data_year\": 2016}, {\"male_count\": 4, \"female_count\": 8, \"unknown\": 0, \"data_year\": 2017}, {\"male_count\": 8, \"female_count\": 11, \"unknown\": 0, \"data_year\": 2018}, {\"male_count\": 14, \"female_count\": 45, \"unknown\": 0, \"data_year\": 2019}, {\"male_count\": 5, \"female_count\": 2, \"unknown\": 3, \"data_year\": 2018}, {\"male_count\": 29, \"female_count\": 9, \"unknown\": 54, \"data_year\": 2019}], \"pagination\": {\"count\": 167, \"page\": 0, \"pages\": 1, \"per_page\": 0}}\n"
     ]
    }
   ],
   "source": [
    "# Dependencies\n",
    "from config import (fbi_key, weather_key)\n",
    "import numpy as np\n",
    "import pandas as pd\n",
    "import requests\n",
    "import json\n",
    "from scipy.stats import linregress\n",
    "from matplotlib import pyplot as plt\n",
    "\n",
    "fkey = fbi_key\n",
    "wkey = weather_key\n",
    "\n",
    "state = \"mn\"\n",
    "offense = \"all-offenses\"\n",
    "demographic = \"sex\"\n",
    "\n",
    "URL = f\"https://api.usa.gov/crime/fbi/sapi/api/data/nibrs/{offense}/offender/states/{state}/{demographic}?API_KEY={fkey}\"\n",
    "\n",
    "\n",
    "crime_gender = requests.get(url)\n",
    "crime_gender = crime_gender.json()\n",
    "\n",
    "print(json.dumps(crime_gender))\n"
   ]
  },
  {
   "cell_type": "code",
   "execution_count": null,
   "metadata": {},
   "outputs": [],
   "source": []
  },
  {
   "cell_type": "code",
   "execution_count": null,
   "metadata": {},
   "outputs": [],
   "source": []
  }
 ],
 "metadata": {
  "kernelspec": {
   "display_name": "Python 3",
   "language": "python",
   "name": "python3"
  },
  "language_info": {
   "codemirror_mode": {
    "name": "ipython",
    "version": 3
   },
   "file_extension": ".py",
   "mimetype": "text/x-python",
   "name": "python",
   "nbconvert_exporter": "python",
   "pygments_lexer": "ipython3",
   "version": "3.8.5"
  }
 },
 "nbformat": 4,
 "nbformat_minor": 4
}
